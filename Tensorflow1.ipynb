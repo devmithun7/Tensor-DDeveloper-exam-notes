{
  "nbformat": 4,
  "nbformat_minor": 0,
  "metadata": {
    "colab": {
      "provenance": []
    },
    "kernelspec": {
      "name": "python3",
      "display_name": "Python 3"
    },
    "language_info": {
      "name": "python"
    }
  },
  "cells": [
    {
      "cell_type": "markdown",
      "source": [
        " Tensor flow, fundemental concepts of tensors\n",
        "* Introduction to tensors, getting information, manipulating tensors, Tensor &Numpy\n",
        "* Using Gpus with tensorflow or TPU\n",
        "* Using @tf.function( a way to speed up regular python function)"
      ],
      "metadata": {
        "id": "qx1UFUTNnknK"
      }
    },
    {
      "cell_type": "code",
      "source": [
        "#  Import tensorflow\n",
        "import tensorflow as tf\n",
        "print(tf.__version__)"
      ],
      "metadata": {
        "colab": {
          "base_uri": "https://localhost:8080/"
        },
        "id": "0IedkNgGmm53",
        "outputId": "15785534-2e0b-466f-d855-801fb12ea6f3"
      },
      "execution_count": 1,
      "outputs": [
        {
          "output_type": "stream",
          "name": "stdout",
          "text": [
            "2.15.0\n"
          ]
        }
      ]
    },
    {
      "cell_type": "code",
      "source": [],
      "metadata": {
        "id": "PTntZwf0c7Wt"
      },
      "execution_count": 1,
      "outputs": []
    },
    {
      "cell_type": "code",
      "source": [
        "from google.colab import drive\n",
        "drive.mount('/content/drive')"
      ],
      "metadata": {
        "id": "OPuo4gyl5mCc",
        "colab": {
          "base_uri": "https://localhost:8080/"
        },
        "outputId": "5784366c-1481-434d-89db-b56b752af901"
      },
      "execution_count": 2,
      "outputs": [
        {
          "output_type": "stream",
          "name": "stdout",
          "text": [
            "Mounted at /content/drive\n"
          ]
        }
      ]
    },
    {
      "cell_type": "code",
      "source": [
        "#creating tensors with tf.constant(), tensor has many built in models such as this to read in the data source\n",
        "scalar = tf.constant(7)\n",
        "scalar"
      ],
      "metadata": {
        "colab": {
          "base_uri": "https://localhost:8080/"
        },
        "id": "A2wf0RmBoTTu",
        "outputId": "5f25799b-f635-439e-b63d-ace5020c2704"
      },
      "execution_count": 3,
      "outputs": [
        {
          "output_type": "execute_result",
          "data": {
            "text/plain": [
              "<tf.Tensor: shape=(), dtype=int32, numpy=7>"
            ]
          },
          "metadata": {},
          "execution_count": 3
        }
      ]
    },
    {
      "cell_type": "code",
      "source": [
        "# check the number of dimension of tensor(ndim)\n",
        "scalar.ndim\n"
      ],
      "metadata": {
        "colab": {
          "base_uri": "https://localhost:8080/"
        },
        "id": "1ZnYCISZovAO",
        "outputId": "3d072339-6fa7-48c4-cc6a-1202f3ab517b"
      },
      "execution_count": 4,
      "outputs": [
        {
          "output_type": "execute_result",
          "data": {
            "text/plain": [
              "0"
            ]
          },
          "metadata": {},
          "execution_count": 4
        }
      ]
    },
    {
      "cell_type": "code",
      "source": [
        "# create a vector\n",
        "vector = tf.constant([10,10])\n",
        "vector"
      ],
      "metadata": {
        "colab": {
          "base_uri": "https://localhost:8080/"
        },
        "id": "FupyPHc0pMsd",
        "outputId": "85e55af8-ee86-4347-ba41-8cc4ff78613e"
      },
      "execution_count": 5,
      "outputs": [
        {
          "output_type": "execute_result",
          "data": {
            "text/plain": [
              "<tf.Tensor: shape=(2,), dtype=int32, numpy=array([10, 10], dtype=int32)>"
            ]
          },
          "metadata": {},
          "execution_count": 5
        }
      ]
    },
    {
      "cell_type": "code",
      "source": [
        "vector.ndim"
      ],
      "metadata": {
        "colab": {
          "base_uri": "https://localhost:8080/"
        },
        "id": "PFkjtJ6tpXZv",
        "outputId": "d9cd40c6-3739-4f1c-f12b-f187315db162"
      },
      "execution_count": 6,
      "outputs": [
        {
          "output_type": "execute_result",
          "data": {
            "text/plain": [
              "1"
            ]
          },
          "metadata": {},
          "execution_count": 6
        }
      ]
    },
    {
      "cell_type": "code",
      "source": [
        "#create a matrix(has more than 1 dimension)\n",
        "matrix = tf.constant([[10,7],\n",
        "                      [7, 10]])\n",
        "matrix"
      ],
      "metadata": {
        "colab": {
          "base_uri": "https://localhost:8080/"
        },
        "id": "RWxwZPolpoO1",
        "outputId": "db7b51dd-57c3-41f3-f62b-d00e4d2df74d"
      },
      "execution_count": 7,
      "outputs": [
        {
          "output_type": "execute_result",
          "data": {
            "text/plain": [
              "<tf.Tensor: shape=(2, 2), dtype=int32, numpy=\n",
              "array([[10,  7],\n",
              "       [ 7, 10]], dtype=int32)>"
            ]
          },
          "metadata": {},
          "execution_count": 7
        }
      ]
    },
    {
      "cell_type": "code",
      "source": [
        "matrix.ndim"
      ],
      "metadata": {
        "colab": {
          "base_uri": "https://localhost:8080/"
        },
        "id": "OIOD0bZPp7Ty",
        "outputId": "faf21805-d44d-497a-a445-9ec77c338561"
      },
      "execution_count": 8,
      "outputs": [
        {
          "output_type": "execute_result",
          "data": {
            "text/plain": [
              "2"
            ]
          },
          "metadata": {},
          "execution_count": 8
        }
      ]
    },
    {
      "cell_type": "code",
      "source": [
        "#create a nother matrix\n",
        "matrix1 = tf.constant([[10.,7.],\n",
        "                      [7., 10.],\n",
        "                       [2.,3.]], dtype = tf.float16) #dtype to manuplate the data type\n",
        "matrix1"
      ],
      "metadata": {
        "colab": {
          "base_uri": "https://localhost:8080/"
        },
        "id": "b5vbDjrjp_fO",
        "outputId": "a4aaa4fb-6537-4683-8fd9-f19b000647f7"
      },
      "execution_count": 9,
      "outputs": [
        {
          "output_type": "execute_result",
          "data": {
            "text/plain": [
              "<tf.Tensor: shape=(3, 2), dtype=float16, numpy=\n",
              "array([[10.,  7.],\n",
              "       [ 7., 10.],\n",
              "       [ 2.,  3.]], dtype=float16)>"
            ]
          },
          "metadata": {},
          "execution_count": 9
        }
      ]
    },
    {
      "cell_type": "code",
      "source": [
        "matrix.ndim"
      ],
      "metadata": {
        "colab": {
          "base_uri": "https://localhost:8080/"
        },
        "id": "Go9eFTAdqTne",
        "outputId": "b514f53e-491c-4359-a302-0729c2766efa"
      },
      "execution_count": 10,
      "outputs": [
        {
          "output_type": "execute_result",
          "data": {
            "text/plain": [
              "2"
            ]
          },
          "metadata": {},
          "execution_count": 10
        }
      ]
    },
    {
      "cell_type": "code",
      "source": [
        "#lets a create a tensor\n",
        "tensor = tf.constant([[[1,2,3,],\n",
        "                       [4,5,6]],\n",
        "                      [[7,8,9],\n",
        "                       [10,11,12]],\n",
        "                      [[13,14,15],\n",
        "                       [16,17,18]]])\n",
        "tensor"
      ],
      "metadata": {
        "colab": {
          "base_uri": "https://localhost:8080/"
        },
        "id": "n2Vi5nZGqml6",
        "outputId": "cbfe0bf7-9f69-4dfe-8e82-d4278a888103"
      },
      "execution_count": 11,
      "outputs": [
        {
          "output_type": "execute_result",
          "data": {
            "text/plain": [
              "<tf.Tensor: shape=(3, 2, 3), dtype=int32, numpy=\n",
              "array([[[ 1,  2,  3],\n",
              "        [ 4,  5,  6]],\n",
              "\n",
              "       [[ 7,  8,  9],\n",
              "        [10, 11, 12]],\n",
              "\n",
              "       [[13, 14, 15],\n",
              "        [16, 17, 18]]], dtype=int32)>"
            ]
          },
          "metadata": {},
          "execution_count": 11
        }
      ]
    },
    {
      "cell_type": "code",
      "source": [
        "tensor.ndim"
      ],
      "metadata": {
        "colab": {
          "base_uri": "https://localhost:8080/"
        },
        "id": "WknkkWu0rV3l",
        "outputId": "72497c7f-3eda-4e46-c0b5-dbd0ba91a54a"
      },
      "execution_count": 12,
      "outputs": [
        {
          "output_type": "execute_result",
          "data": {
            "text/plain": [
              "3"
            ]
          },
          "metadata": {},
          "execution_count": 12
        }
      ]
    },
    {
      "cell_type": "markdown",
      "source": [
        "* scalar is single number\n",
        "* Vector a number with direction (eg wind speed and direction)\n",
        "* Matrix: a 2-dimensional array of numbers\n",
        "* Tensor: a n-dimensional ( 0 to n), array of numbers , 0 is scalar, 1 is vector\n"
      ],
      "metadata": {
        "id": "w4St6Kf8rsur"
      }
    },
    {
      "cell_type": "code",
      "source": [
        "# create with tf.Variable"
      ],
      "metadata": {
        "id": "oni1fRcnrdwB"
      },
      "execution_count": 13,
      "outputs": []
    },
    {
      "cell_type": "code",
      "source": [
        "tf.Variable"
      ],
      "metadata": {
        "colab": {
          "base_uri": "https://localhost:8080/"
        },
        "id": "uzE5a8uqsV93",
        "outputId": "8c5897d0-b95c-4680-caa4-b251e2fd47de"
      },
      "execution_count": 14,
      "outputs": [
        {
          "output_type": "execute_result",
          "data": {
            "text/plain": [
              "tensorflow.python.ops.variables.Variable"
            ]
          },
          "metadata": {},
          "execution_count": 14
        }
      ]
    },
    {
      "cell_type": "code",
      "source": [
        "changaeble_tensor = tf.Variable([10,7])\n",
        "unchangaeble_tensor = tf.constant([10,7])\n",
        "changaeble_tensor, unchangaeble_tensor"
      ],
      "metadata": {
        "colab": {
          "base_uri": "https://localhost:8080/"
        },
        "id": "V2XSkOru_tR6",
        "outputId": "35f779da-717f-47b7-84b5-cccd7eed7213"
      },
      "execution_count": 15,
      "outputs": [
        {
          "output_type": "execute_result",
          "data": {
            "text/plain": [
              "(<tf.Variable 'Variable:0' shape=(2,) dtype=int32, numpy=array([10,  7], dtype=int32)>,\n",
              " <tf.Tensor: shape=(2,), dtype=int32, numpy=array([10,  7], dtype=int32)>)"
            ]
          },
          "metadata": {},
          "execution_count": 15
        }
      ]
    },
    {
      "cell_type": "code",
      "source": [
        "changaeble_tensor[0].assign(7) #.assign to change values"
      ],
      "metadata": {
        "colab": {
          "base_uri": "https://localhost:8080/"
        },
        "id": "4rufpyGPAgVP",
        "outputId": "537007e8-a4f4-4027-ff9b-993365c20036"
      },
      "execution_count": 16,
      "outputs": [
        {
          "output_type": "execute_result",
          "data": {
            "text/plain": [
              "<tf.Variable 'UnreadVariable' shape=(2,) dtype=int32, numpy=array([7, 7], dtype=int32)>"
            ]
          },
          "metadata": {},
          "execution_count": 16
        }
      ]
    },
    {
      "cell_type": "code",
      "source": [
        "changaeble_tensor #.assign doesnt work for other unchan..."
      ],
      "metadata": {
        "colab": {
          "base_uri": "https://localhost:8080/"
        },
        "id": "IzMrpfrhA72v",
        "outputId": "46200a6f-442a-4763-9ab9-82fa418f196c"
      },
      "execution_count": 17,
      "outputs": [
        {
          "output_type": "execute_result",
          "data": {
            "text/plain": [
              "<tf.Variable 'Variable:0' shape=(2,) dtype=int32, numpy=array([7, 7], dtype=int32)>"
            ]
          },
          "metadata": {},
          "execution_count": 17
        }
      ]
    },
    {
      "cell_type": "markdown",
      "source": [
        "Random Tensors"
      ],
      "metadata": {
        "id": "Gzsfx5RUCZ4k"
      }
    },
    {
      "cell_type": "code",
      "source": [
        "#rarely in practice you need to decide if you need to go with tf.constant or tf.Variable. However, in doubt use tf.constant and change it later if needed"
      ],
      "metadata": {
        "id": "lNXev6PWBFGP"
      },
      "execution_count": 18,
      "outputs": []
    },
    {
      "cell_type": "code",
      "source": [
        "#random tensors are of random size fileed with arbitary numbers"
      ],
      "metadata": {
        "id": "yF-S12YZCtUF"
      },
      "execution_count": 19,
      "outputs": []
    },
    {
      "cell_type": "code",
      "source": [
        "#create two random tensors(but the same)"
      ],
      "metadata": {
        "id": "Fjomny5GC7Q5"
      },
      "execution_count": 20,
      "outputs": []
    },
    {
      "cell_type": "code",
      "source": [
        "random1= tf.random.Generator.from_seed(42) #set seed for repdoucibility"
      ],
      "metadata": {
        "id": "TfwMp81JDi2x"
      },
      "execution_count": 21,
      "outputs": []
    },
    {
      "cell_type": "code",
      "source": [
        "random1 = random1.normal(shape=(3,2))"
      ],
      "metadata": {
        "id": "FNVL4gbbDsIL"
      },
      "execution_count": 22,
      "outputs": []
    },
    {
      "cell_type": "code",
      "source": [
        "random1"
      ],
      "metadata": {
        "colab": {
          "base_uri": "https://localhost:8080/"
        },
        "id": "-ruTV5dxEMVC",
        "outputId": "f0525b5a-2184-4c7a-db48-1d1b04f5d249"
      },
      "execution_count": 23,
      "outputs": [
        {
          "output_type": "execute_result",
          "data": {
            "text/plain": [
              "<tf.Tensor: shape=(3, 2), dtype=float32, numpy=\n",
              "array([[-0.7565803 , -0.06854702],\n",
              "       [ 0.07595026, -1.2573844 ],\n",
              "       [-0.23193763, -1.8107855 ]], dtype=float32)>"
            ]
          },
          "metadata": {},
          "execution_count": 23
        }
      ]
    },
    {
      "cell_type": "code",
      "source": [
        "random2= tf.random.Generator.from_seed(42)\n",
        "random2 = random2.normal(shape=(3,2))\n",
        "random1, random2, random1==random2"
      ],
      "metadata": {
        "colab": {
          "base_uri": "https://localhost:8080/"
        },
        "id": "4oVNXQc6EN8D",
        "outputId": "5dc364e1-e880-4f4b-a4c7-561967d52ea1"
      },
      "execution_count": 24,
      "outputs": [
        {
          "output_type": "execute_result",
          "data": {
            "text/plain": [
              "(<tf.Tensor: shape=(3, 2), dtype=float32, numpy=\n",
              " array([[-0.7565803 , -0.06854702],\n",
              "        [ 0.07595026, -1.2573844 ],\n",
              "        [-0.23193763, -1.8107855 ]], dtype=float32)>,\n",
              " <tf.Tensor: shape=(3, 2), dtype=float32, numpy=\n",
              " array([[-0.7565803 , -0.06854702],\n",
              "        [ 0.07595026, -1.2573844 ],\n",
              "        [-0.23193763, -1.8107855 ]], dtype=float32)>,\n",
              " <tf.Tensor: shape=(3, 2), dtype=bool, numpy=\n",
              " array([[ True,  True],\n",
              "        [ True,  True],\n",
              "        [ True,  True]])>)"
            ]
          },
          "metadata": {},
          "execution_count": 24
        }
      ]
    },
    {
      "cell_type": "markdown",
      "source": [
        "Shuffle order of elements in Tensor\n",
        "* in food image class ang 15k images categories, first 2k of apple, next of banana, and so on... It will be good idea to mix up the images and neural network will learn them at same time\n",
        "* inherent order doesnt affect learning"
      ],
      "metadata": {
        "id": "OcHbWGSDGYhF"
      }
    },
    {
      "cell_type": "code",
      "source": [
        "not_shuffles = tf.constant([[10,7],\n",
        "                           [3,4],\n",
        "                            [3,3]])\n",
        "not_shuffles.ndim"
      ],
      "metadata": {
        "colab": {
          "base_uri": "https://localhost:8080/"
        },
        "id": "3at_TxB9GyW3",
        "outputId": "7e138918-7750-43e9-d0a4-860d9407f781"
      },
      "execution_count": 25,
      "outputs": [
        {
          "output_type": "execute_result",
          "data": {
            "text/plain": [
              "2"
            ]
          },
          "metadata": {},
          "execution_count": 25
        }
      ]
    },
    {
      "cell_type": "code",
      "source": [
        "# to shuffle\n",
        "# tf.random.shuffle(value, seed = None, name = None) RANDOMLY SHUFFLES IN FIRST DIMENSION, value is tensor to be shuffled, seed is python integer, Name of the operation(optional)"
      ],
      "metadata": {
        "id": "AsD2L-uyHGgW"
      },
      "execution_count": 26,
      "outputs": []
    },
    {
      "cell_type": "code",
      "source": [
        "tf.random.shuffle(not_shuffles)"
      ],
      "metadata": {
        "colab": {
          "base_uri": "https://localhost:8080/"
        },
        "id": "7vyb3GclHadU",
        "outputId": "0e706036-c7cf-4684-9248-12cf4e4baa72"
      },
      "execution_count": 27,
      "outputs": [
        {
          "output_type": "execute_result",
          "data": {
            "text/plain": [
              "<tf.Tensor: shape=(3, 2), dtype=int32, numpy=\n",
              "array([[10,  7],\n",
              "       [ 3,  3],\n",
              "       [ 3,  4]], dtype=int32)>"
            ]
          },
          "metadata": {},
          "execution_count": 27
        }
      ]
    },
    {
      "cell_type": "code",
      "source": [
        "#It lloks like if we want to shuffle tensors to be in the same order, we have to use the global level as weel as operational level random seed"
      ],
      "metadata": {
        "id": "rdSpDQYIH_Kv"
      },
      "execution_count": 28,
      "outputs": []
    },
    {
      "cell_type": "code",
      "source": [
        "tf.random.set_seed(42) # global level random seed\n",
        "tf.random.shuffle(not_shuffles, seed =42) #operational levelr andom seed"
      ],
      "metadata": {
        "colab": {
          "base_uri": "https://localhost:8080/"
        },
        "id": "Sf_ZFN-c68UO",
        "outputId": "0b83ad69-6382-4da6-e979-aef4b4c3c49d"
      },
      "execution_count": 29,
      "outputs": [
        {
          "output_type": "execute_result",
          "data": {
            "text/plain": [
              "<tf.Tensor: shape=(3, 2), dtype=int32, numpy=\n",
              "array([[10,  7],\n",
              "       [ 3,  4],\n",
              "       [ 3,  3]], dtype=int32)>"
            ]
          },
          "metadata": {},
          "execution_count": 29
        }
      ]
    },
    {
      "cell_type": "code",
      "source": [
        "### others ways to make tensors"
      ],
      "metadata": {
        "id": "W9B45-Aa7NWZ"
      },
      "execution_count": 30,
      "outputs": []
    },
    {
      "cell_type": "code",
      "source": [
        "tf.ones([3,4], dtype=float)"
      ],
      "metadata": {
        "colab": {
          "base_uri": "https://localhost:8080/"
        },
        "id": "B6o1qo_O7r5T",
        "outputId": "f14abb4c-4183-45b2-c1a6-2caf40944eb2"
      },
      "execution_count": 31,
      "outputs": [
        {
          "output_type": "execute_result",
          "data": {
            "text/plain": [
              "<tf.Tensor: shape=(3, 4), dtype=float32, numpy=\n",
              "array([[1., 1., 1., 1.],\n",
              "       [1., 1., 1., 1.],\n",
              "       [1., 1., 1., 1.]], dtype=float32)>"
            ]
          },
          "metadata": {},
          "execution_count": 31
        }
      ]
    },
    {
      "cell_type": "code",
      "source": [
        "tf.zeros([2,3])"
      ],
      "metadata": {
        "colab": {
          "base_uri": "https://localhost:8080/"
        },
        "id": "sSM0PFVb72Sw",
        "outputId": "c707c5e3-639d-43e9-8932-d5caa6b8e313"
      },
      "execution_count": 32,
      "outputs": [
        {
          "output_type": "execute_result",
          "data": {
            "text/plain": [
              "<tf.Tensor: shape=(2, 3), dtype=float32, numpy=\n",
              "array([[0., 0., 0.],\n",
              "       [0., 0., 0.]], dtype=float32)>"
            ]
          },
          "metadata": {},
          "execution_count": 32
        }
      ]
    },
    {
      "cell_type": "code",
      "source": [
        "#you can also turn numpy arrays into tensors, the main difference betweeen both is tensors can be run on gpu than numerical computing"
      ],
      "metadata": {
        "id": "4sB7-2mg77hR"
      },
      "execution_count": 33,
      "outputs": []
    },
    {
      "cell_type": "code",
      "source": [
        "import numpy as np\n",
        "numpy_A = np.arange(1, 25, dtype = np.int32)\n",
        "numpy_A"
      ],
      "metadata": {
        "colab": {
          "base_uri": "https://localhost:8080/"
        },
        "id": "5Zn7mI7f8Dij",
        "outputId": "7415779f-9e46-442d-c853-f1792419a863"
      },
      "execution_count": 34,
      "outputs": [
        {
          "output_type": "execute_result",
          "data": {
            "text/plain": [
              "array([ 1,  2,  3,  4,  5,  6,  7,  8,  9, 10, 11, 12, 13, 14, 15, 16, 17,\n",
              "       18, 19, 20, 21, 22, 23, 24], dtype=int32)"
            ]
          },
          "metadata": {},
          "execution_count": 34
        }
      ]
    },
    {
      "cell_type": "code",
      "source": [
        "A =tf.constant(numpy_A, shape =(2,3,4)) #shape not mandatory just to show 2*3*4=24\n",
        "A #since it is in a tensor format it run faster on a gpu processor"
      ],
      "metadata": {
        "colab": {
          "base_uri": "https://localhost:8080/"
        },
        "id": "Da_981EN-BZ4",
        "outputId": "31f11d1f-beba-4280-9b62-5a89ab01e2b0"
      },
      "execution_count": 35,
      "outputs": [
        {
          "output_type": "execute_result",
          "data": {
            "text/plain": [
              "<tf.Tensor: shape=(2, 3, 4), dtype=int32, numpy=\n",
              "array([[[ 1,  2,  3,  4],\n",
              "        [ 5,  6,  7,  8],\n",
              "        [ 9, 10, 11, 12]],\n",
              "\n",
              "       [[13, 14, 15, 16],\n",
              "        [17, 18, 19, 20],\n",
              "        [21, 22, 23, 24]]], dtype=int32)>"
            ]
          },
          "metadata": {},
          "execution_count": 35
        }
      ]
    },
    {
      "cell_type": "markdown",
      "source": [
        "Getting information from tensors:\n",
        "* shape -> the length(no of elements) in each dimension of a tensor, tensor.shape\n",
        "* rank -> T number of tensor dimension, scalar 0 , vector 1, matrix 2, tensor n. tensor.ndim\n",
        "* axis or dimension -> a particular dimension of tensor, tensor[0],...tensor[:,1]\n",
        "* size-> total number of elements in tensor, ts.size(tensor)"
      ],
      "metadata": {
        "id": "-xLG10uKAHlZ"
      }
    },
    {
      "cell_type": "code",
      "source": [
        "#create 4 dimension tensors\n",
        "rank_4_tensor = tf.zeros([2,3,4,5])\n",
        "rank_4_tensor"
      ],
      "metadata": {
        "colab": {
          "base_uri": "https://localhost:8080/"
        },
        "id": "RLSCjI7q-Jtz",
        "outputId": "7f2d329e-4577-4221-d844-a28be6f79031"
      },
      "execution_count": 36,
      "outputs": [
        {
          "output_type": "execute_result",
          "data": {
            "text/plain": [
              "<tf.Tensor: shape=(2, 3, 4, 5), dtype=float32, numpy=\n",
              "array([[[[0., 0., 0., 0., 0.],\n",
              "         [0., 0., 0., 0., 0.],\n",
              "         [0., 0., 0., 0., 0.],\n",
              "         [0., 0., 0., 0., 0.]],\n",
              "\n",
              "        [[0., 0., 0., 0., 0.],\n",
              "         [0., 0., 0., 0., 0.],\n",
              "         [0., 0., 0., 0., 0.],\n",
              "         [0., 0., 0., 0., 0.]],\n",
              "\n",
              "        [[0., 0., 0., 0., 0.],\n",
              "         [0., 0., 0., 0., 0.],\n",
              "         [0., 0., 0., 0., 0.],\n",
              "         [0., 0., 0., 0., 0.]]],\n",
              "\n",
              "\n",
              "       [[[0., 0., 0., 0., 0.],\n",
              "         [0., 0., 0., 0., 0.],\n",
              "         [0., 0., 0., 0., 0.],\n",
              "         [0., 0., 0., 0., 0.]],\n",
              "\n",
              "        [[0., 0., 0., 0., 0.],\n",
              "         [0., 0., 0., 0., 0.],\n",
              "         [0., 0., 0., 0., 0.],\n",
              "         [0., 0., 0., 0., 0.]],\n",
              "\n",
              "        [[0., 0., 0., 0., 0.],\n",
              "         [0., 0., 0., 0., 0.],\n",
              "         [0., 0., 0., 0., 0.],\n",
              "         [0., 0., 0., 0., 0.]]]], dtype=float32)>"
            ]
          },
          "metadata": {},
          "execution_count": 36
        }
      ]
    },
    {
      "cell_type": "code",
      "source": [
        "#when we pass a tensor to neural network it should be of particular shape, even when it comes out"
      ],
      "metadata": {
        "id": "8q-B_6U_BOCX"
      },
      "execution_count": 37,
      "outputs": []
    },
    {
      "cell_type": "code",
      "source": [
        "rank_4_tensor[0]"
      ],
      "metadata": {
        "colab": {
          "base_uri": "https://localhost:8080/"
        },
        "id": "czyE9yRxB6EN",
        "outputId": "c325a1d5-0035-4349-c010-9fed14f81650"
      },
      "execution_count": 38,
      "outputs": [
        {
          "output_type": "execute_result",
          "data": {
            "text/plain": [
              "<tf.Tensor: shape=(3, 4, 5), dtype=float32, numpy=\n",
              "array([[[0., 0., 0., 0., 0.],\n",
              "        [0., 0., 0., 0., 0.],\n",
              "        [0., 0., 0., 0., 0.],\n",
              "        [0., 0., 0., 0., 0.]],\n",
              "\n",
              "       [[0., 0., 0., 0., 0.],\n",
              "        [0., 0., 0., 0., 0.],\n",
              "        [0., 0., 0., 0., 0.],\n",
              "        [0., 0., 0., 0., 0.]],\n",
              "\n",
              "       [[0., 0., 0., 0., 0.],\n",
              "        [0., 0., 0., 0., 0.],\n",
              "        [0., 0., 0., 0., 0.],\n",
              "        [0., 0., 0., 0., 0.]]], dtype=float32)>"
            ]
          },
          "metadata": {},
          "execution_count": 38
        }
      ]
    },
    {
      "cell_type": "code",
      "source": [
        "rank_4_tensor.shape, rank_4_tensor.ndim, tf.size(rank_4_tensor)"
      ],
      "metadata": {
        "colab": {
          "base_uri": "https://localhost:8080/"
        },
        "id": "khCrAWyOB_CE",
        "outputId": "40be9584-8450-46d7-8090-f1c706e03f24"
      },
      "execution_count": 39,
      "outputs": [
        {
          "output_type": "execute_result",
          "data": {
            "text/plain": [
              "(TensorShape([2, 3, 4, 5]), 4, <tf.Tensor: shape=(), dtype=int32, numpy=120>)"
            ]
          },
          "metadata": {},
          "execution_count": 39
        }
      ]
    },
    {
      "cell_type": "code",
      "source": [
        "#get various attributes of our tensor\n",
        "print(\"Data type of every elemrnt:\", rank_4_tensor.dtype)\n",
        "print(\"Number of dimensions: \", rank_4_tensor.ndim)\n",
        "print(\"shape of tensor: \", rank_4_tensor.shape)\n",
        "print(\"elements along 0 axis \", rank_4_tensor.shape[0])\n",
        "print(\"elements along last axis \", rank_4_tensor.shape[-1])\n",
        "print(\"total number of elements \", tf.size(rank_4_tensor).numpy())"
      ],
      "metadata": {
        "colab": {
          "base_uri": "https://localhost:8080/"
        },
        "id": "tR5R601bEviG",
        "outputId": "1e3d3aca-3573-4057-d998-142a654a29b8"
      },
      "execution_count": 40,
      "outputs": [
        {
          "output_type": "stream",
          "name": "stdout",
          "text": [
            "Data type of every elemrnt: <dtype: 'float32'>\n",
            "Number of dimensions:  4\n",
            "shape of tensor:  (2, 3, 4, 5)\n",
            "elements along 0 axis  2\n",
            "elements along last axis  5\n",
            "total number of elements  120\n"
          ]
        }
      ]
    },
    {
      "cell_type": "markdown",
      "source": [
        "Indexing tensors:\n",
        "Tensors can be indexed like python list"
      ],
      "metadata": {
        "id": "htzOrTdFnxsh"
      }
    },
    {
      "cell_type": "code",
      "source": [
        "# getting first two element of each tensor\n",
        "rank_4_tensor[:2, :2, :2, :2]"
      ],
      "metadata": {
        "colab": {
          "base_uri": "https://localhost:8080/"
        },
        "id": "mq3iyfcmE9ym",
        "outputId": "8f83676e-47b0-430b-da68-7c6feb420ee2"
      },
      "execution_count": 41,
      "outputs": [
        {
          "output_type": "execute_result",
          "data": {
            "text/plain": [
              "<tf.Tensor: shape=(2, 2, 2, 2), dtype=float32, numpy=\n",
              "array([[[[0., 0.],\n",
              "         [0., 0.]],\n",
              "\n",
              "        [[0., 0.],\n",
              "         [0., 0.]]],\n",
              "\n",
              "\n",
              "       [[[0., 0.],\n",
              "         [0., 0.]],\n",
              "\n",
              "        [[0., 0.],\n",
              "         [0., 0.]]]], dtype=float32)>"
            ]
          },
          "metadata": {},
          "execution_count": 41
        }
      ]
    },
    {
      "cell_type": "code",
      "source": [
        "#get the first element from each dimension from each index except the final one\n",
        "rank_4_tensor[:1, :1, :1, :]"
      ],
      "metadata": {
        "colab": {
          "base_uri": "https://localhost:8080/"
        },
        "id": "jE1putuioQdq",
        "outputId": "37419dce-b169-4d35-f01c-85a513ecd19a"
      },
      "execution_count": 42,
      "outputs": [
        {
          "output_type": "execute_result",
          "data": {
            "text/plain": [
              "<tf.Tensor: shape=(1, 1, 1, 5), dtype=float32, numpy=array([[[[0., 0., 0., 0., 0.]]]], dtype=float32)>"
            ]
          },
          "metadata": {},
          "execution_count": 42
        }
      ]
    },
    {
      "cell_type": "code",
      "source": [
        "# expanding tensor\n",
        "rank2 = tf.constant([[10,7],\n",
        "                     [3,4]])\n",
        "rank2"
      ],
      "metadata": {
        "colab": {
          "base_uri": "https://localhost:8080/"
        },
        "id": "pmQY1079ozG9",
        "outputId": "3fdab095-2b9c-4a31-ec59-82de5e65aa5e"
      },
      "execution_count": 43,
      "outputs": [
        {
          "output_type": "execute_result",
          "data": {
            "text/plain": [
              "<tf.Tensor: shape=(2, 2), dtype=int32, numpy=\n",
              "array([[10,  7],\n",
              "       [ 3,  4]], dtype=int32)>"
            ]
          },
          "metadata": {},
          "execution_count": 43
        }
      ]
    },
    {
      "cell_type": "code",
      "source": [
        "#last element in each row of rank2 tensor\n",
        "rank2[:, -1]"
      ],
      "metadata": {
        "colab": {
          "base_uri": "https://localhost:8080/"
        },
        "id": "v6W2QoKAuXDO",
        "outputId": "68c7b9f1-1d76-4c94-b4d9-eccdb4948911"
      },
      "execution_count": 44,
      "outputs": [
        {
          "output_type": "execute_result",
          "data": {
            "text/plain": [
              "<tf.Tensor: shape=(2,), dtype=int32, numpy=array([7, 4], dtype=int32)>"
            ]
          },
          "metadata": {},
          "execution_count": 44
        }
      ]
    },
    {
      "cell_type": "code",
      "source": [
        "#add extra information\n",
        "rank3 = rank2[... , tf.newaxis] # ...-> every axis before new one\n",
        "rank3"
      ],
      "metadata": {
        "colab": {
          "base_uri": "https://localhost:8080/"
        },
        "id": "GmywYs72usud",
        "outputId": "e4f760ab-6030-4407-8558-fe7435821721"
      },
      "execution_count": 45,
      "outputs": [
        {
          "output_type": "execute_result",
          "data": {
            "text/plain": [
              "<tf.Tensor: shape=(2, 2, 1), dtype=int32, numpy=\n",
              "array([[[10],\n",
              "        [ 7]],\n",
              "\n",
              "       [[ 3],\n",
              "        [ 4]]], dtype=int32)>"
            ]
          },
          "metadata": {},
          "execution_count": 45
        }
      ]
    },
    {
      "cell_type": "code",
      "source": [
        "rank3 = rank2[:, tf.newaxis, :]\n",
        "rank3"
      ],
      "metadata": {
        "colab": {
          "base_uri": "https://localhost:8080/"
        },
        "id": "yL90Q5ytu6G7",
        "outputId": "ca207e0e-ceb5-442c-c090-775c198c1b97"
      },
      "execution_count": 46,
      "outputs": [
        {
          "output_type": "execute_result",
          "data": {
            "text/plain": [
              "<tf.Tensor: shape=(2, 1, 2), dtype=int32, numpy=\n",
              "array([[[10,  7]],\n",
              "\n",
              "       [[ 3,  4]]], dtype=int32)>"
            ]
          },
          "metadata": {},
          "execution_count": 46
        }
      ]
    },
    {
      "cell_type": "code",
      "source": [
        "tf.expand_dims(rank2, axis=-1) #alternate, (input = tensor, axis = integer, name=)\n"
      ],
      "metadata": {
        "colab": {
          "base_uri": "https://localhost:8080/"
        },
        "id": "5Rlz4tuXvnlZ",
        "outputId": "bfa5c5f5-97e4-453a-8b5b-9a7cffecf8cb"
      },
      "execution_count": 47,
      "outputs": [
        {
          "output_type": "execute_result",
          "data": {
            "text/plain": [
              "<tf.Tensor: shape=(2, 2, 1), dtype=int32, numpy=\n",
              "array([[[10],\n",
              "        [ 7]],\n",
              "\n",
              "       [[ 3],\n",
              "        [ 4]]], dtype=int32)>"
            ]
          },
          "metadata": {},
          "execution_count": 47
        }
      ]
    },
    {
      "cell_type": "markdown",
      "source": [
        "Matrix multiplication"
      ],
      "metadata": {
        "id": "cYxl9dVSHO5_"
      }
    },
    {
      "cell_type": "code",
      "source": [
        "matrix = tf.constant([[10,7],\n",
        "                      [7, 10]])\n",
        "matrix"
      ],
      "metadata": {
        "id": "lPga2jZWv06d",
        "colab": {
          "base_uri": "https://localhost:8080/"
        },
        "outputId": "476aae7f-a4ee-4f66-f198-614f364009f8"
      },
      "execution_count": 48,
      "outputs": [
        {
          "output_type": "execute_result",
          "data": {
            "text/plain": [
              "<tf.Tensor: shape=(2, 2), dtype=int32, numpy=\n",
              "array([[10,  7],\n",
              "       [ 7, 10]], dtype=int32)>"
            ]
          },
          "metadata": {},
          "execution_count": 48
        }
      ]
    },
    {
      "cell_type": "code",
      "source": [
        "matrix+=10\n",
        "matrix"
      ],
      "metadata": {
        "colab": {
          "base_uri": "https://localhost:8080/"
        },
        "id": "4jNgTvTMHmFe",
        "outputId": "d52f69ca-d351-442f-8966-9d87c397c7b5"
      },
      "execution_count": 49,
      "outputs": [
        {
          "output_type": "execute_result",
          "data": {
            "text/plain": [
              "<tf.Tensor: shape=(2, 2), dtype=int32, numpy=\n",
              "array([[20, 17],\n",
              "       [17, 20]], dtype=int32)>"
            ]
          },
          "metadata": {},
          "execution_count": 49
        }
      ]
    },
    {
      "cell_type": "markdown",
      "source": [
        "Need to '.' product, the usual multiplication"
      ],
      "metadata": {
        "id": "WSAmFpfnHvhA"
      }
    },
    {
      "cell_type": "code",
      "source": [
        "tf.matmul(matrix,matrix)"
      ],
      "metadata": {
        "colab": {
          "base_uri": "https://localhost:8080/"
        },
        "id": "Uh-THJt9Hqto",
        "outputId": "40ab163f-1d4b-4a66-e635-90057f55a352"
      },
      "execution_count": 50,
      "outputs": [
        {
          "output_type": "execute_result",
          "data": {
            "text/plain": [
              "<tf.Tensor: shape=(2, 2), dtype=int32, numpy=\n",
              "array([[689, 680],\n",
              "       [680, 689]], dtype=int32)>"
            ]
          },
          "metadata": {},
          "execution_count": 50
        }
      ]
    },
    {
      "cell_type": "code",
      "source": [
        "matrix * matrix"
      ],
      "metadata": {
        "colab": {
          "base_uri": "https://localhost:8080/"
        },
        "id": "_tlvIPcSIJ2d",
        "outputId": "53b51a19-d444-46dc-a79b-7b7719e54961"
      },
      "execution_count": 51,
      "outputs": [
        {
          "output_type": "execute_result",
          "data": {
            "text/plain": [
              "<tf.Tensor: shape=(2, 2), dtype=int32, numpy=\n",
              "array([[400, 289],\n",
              "       [289, 400]], dtype=int32)>"
            ]
          },
          "metadata": {},
          "execution_count": 51
        }
      ]
    },
    {
      "cell_type": "markdown",
      "source": [
        "See the difference"
      ],
      "metadata": {
        "id": "y0jU93j7ISBQ"
      }
    },
    {
      "cell_type": "code",
      "source": [
        "tensor = tf.constant([[10,7],\n",
        "                      [7, 10],\n",
        "                       [7, 10]])\n",
        "tensor"
      ],
      "metadata": {
        "colab": {
          "base_uri": "https://localhost:8080/"
        },
        "id": "OJrPLQLuIQP6",
        "outputId": "92166b0b-6ebb-48c5-871f-b9e60283d9a7"
      },
      "execution_count": 52,
      "outputs": [
        {
          "output_type": "execute_result",
          "data": {
            "text/plain": [
              "<tf.Tensor: shape=(3, 2), dtype=int32, numpy=\n",
              "array([[10,  7],\n",
              "       [ 7, 10],\n",
              "       [ 7, 10]], dtype=int32)>"
            ]
          },
          "metadata": {},
          "execution_count": 52
        }
      ]
    },
    {
      "cell_type": "code",
      "source": [
        "tensor @ tensor, tf.matmul(matrix,matrix)=> basic rules apply"
      ],
      "metadata": {
        "colab": {
          "base_uri": "https://localhost:8080/",
          "height": 141
        },
        "id": "IHSdbeoYIhHU",
        "outputId": "0392103e-0403-43c6-de9c-27d3a60eb602"
      },
      "execution_count": 53,
      "outputs": [
        {
          "output_type": "error",
          "ename": "SyntaxError",
          "evalue": "ignored",
          "traceback": [
            "\u001b[0;36m  File \u001b[0;32m\"<ipython-input-53-695e35672476>\"\u001b[0;36m, line \u001b[0;32m1\u001b[0m\n\u001b[0;31m    tensor @ tensor, tf.matmul(matrix,matrix)=> basic rules apply\u001b[0m\n\u001b[0m    ^\u001b[0m\n\u001b[0;31mSyntaxError\u001b[0m\u001b[0;31m:\u001b[0m cannot assign to expression\n"
          ]
        }
      ]
    },
    {
      "cell_type": "code",
      "source": [
        "tf.transpose(tensor)"
      ],
      "metadata": {
        "colab": {
          "base_uri": "https://localhost:8080/"
        },
        "id": "rTkb8bWfIkKx",
        "outputId": "977cd6b7-39da-4128-aea0-301e5e0a04c4"
      },
      "execution_count": 54,
      "outputs": [
        {
          "output_type": "execute_result",
          "data": {
            "text/plain": [
              "<tf.Tensor: shape=(2, 3), dtype=int32, numpy=\n",
              "array([[10,  7,  7],\n",
              "       [ 7, 10, 10]], dtype=int32)>"
            ]
          },
          "metadata": {},
          "execution_count": 54
        }
      ]
    },
    {
      "cell_type": "markdown",
      "source": [
        "**The Dot Product**\n",
        "\n",
        "Matrix multiplication is also called dot product.\n",
        "\n",
        "tf.matmul()\n",
        "\n",
        "tf.tensordot()"
      ],
      "metadata": {
        "id": "ShNiKi35Xe9Y"
      }
    },
    {
      "cell_type": "code",
      "source": [
        "tf.tensordot(tf.transpose(tensor),tensor,axes=1)"
      ],
      "metadata": {
        "colab": {
          "base_uri": "https://localhost:8080/"
        },
        "id": "rk9Q1-C3XW0r",
        "outputId": "088d9474-2040-4ff9-ff5d-888265a3e1ab"
      },
      "execution_count": 55,
      "outputs": [
        {
          "output_type": "execute_result",
          "data": {
            "text/plain": [
              "<tf.Tensor: shape=(2, 2), dtype=int32, numpy=\n",
              "array([[198, 210],\n",
              "       [210, 249]], dtype=int32)>"
            ]
          },
          "metadata": {},
          "execution_count": 55
        }
      ]
    },
    {
      "cell_type": "markdown",
      "source": [
        "Changing datatype, default int32"
      ],
      "metadata": {
        "id": "jO388oEAY4FH"
      }
    },
    {
      "cell_type": "code",
      "source": [
        "tensor = tf.constant([[10,7],\n",
        "                      [7, 10],\n",
        "                       [7, 10]])\n",
        "tensor1 = tf.cast(tensor , tf.float32)\n",
        "tensor1"
      ],
      "metadata": {
        "id": "SofeQfTYYtEb",
        "colab": {
          "base_uri": "https://localhost:8080/"
        },
        "outputId": "931a4286-7e89-4c59-b672-a4faee680f32"
      },
      "execution_count": 57,
      "outputs": [
        {
          "output_type": "execute_result",
          "data": {
            "text/plain": [
              "<tf.Tensor: shape=(3, 2), dtype=float32, numpy=\n",
              "array([[10.,  7.],\n",
              "       [ 7., 10.],\n",
              "       [ 7., 10.]], dtype=float32)>"
            ]
          },
          "metadata": {},
          "execution_count": 57
        }
      ]
    },
    {
      "cell_type": "code",
      "source": [
        "tensor = tf.constant([[-10,-7],\n",
        "                      [-7, -10],\n",
        "                       [-7, -10]])\n",
        "tf.abs(tensor)"
      ],
      "metadata": {
        "colab": {
          "base_uri": "https://localhost:8080/"
        },
        "id": "YN9Q7tDEoME6",
        "outputId": "9d63b02b-7227-4618-d17b-12f5917dbb0b"
      },
      "execution_count": 58,
      "outputs": [
        {
          "output_type": "execute_result",
          "data": {
            "text/plain": [
              "<tf.Tensor: shape=(3, 2), dtype=int32, numpy=\n",
              "array([[10,  7],\n",
              "       [ 7, 10],\n",
              "       [ 7, 10]], dtype=int32)>"
            ]
          },
          "metadata": {},
          "execution_count": 58
        }
      ]
    },
    {
      "cell_type": "markdown",
      "source": [
        "more aggregration"
      ],
      "metadata": {
        "id": "zEytkzb1olEL"
      }
    },
    {
      "cell_type": "code",
      "source": [
        "tensor = tf.constant(np.random.randint(0,100,size=50))\n",
        "tensor"
      ],
      "metadata": {
        "colab": {
          "base_uri": "https://localhost:8080/"
        },
        "id": "s2G27ESEpQOm",
        "outputId": "13733169-61d6-4d56-d3ad-c617cc4b297d"
      },
      "execution_count": 63,
      "outputs": [
        {
          "output_type": "execute_result",
          "data": {
            "text/plain": [
              "<tf.Tensor: shape=(50,), dtype=int64, numpy=\n",
              "array([68, 19, 11, 94, 60, 31, 79, 96, 42, 61, 86, 47, 96, 84, 37, 52, 98,\n",
              "       92, 76, 43, 70, 63, 48, 23,  4, 77,  1, 68, 73, 88, 11, 15, 85, 10,\n",
              "       80, 88, 92, 80, 48, 19, 59, 47, 85, 14, 18, 86, 54, 94, 60, 65])>"
            ]
          },
          "metadata": {},
          "execution_count": 63
        }
      ]
    },
    {
      "cell_type": "code",
      "source": [
        "tf.size(tensor), tensor.shape, tensor.ndim"
      ],
      "metadata": {
        "colab": {
          "base_uri": "https://localhost:8080/"
        },
        "id": "uG_pfR6KoYzF",
        "outputId": "945deab3-119a-4660-99cb-8596f7153fe7"
      },
      "execution_count": 64,
      "outputs": [
        {
          "output_type": "execute_result",
          "data": {
            "text/plain": [
              "(<tf.Tensor: shape=(), dtype=int32, numpy=50>, TensorShape([50]), 1)"
            ]
          },
          "metadata": {},
          "execution_count": 64
        }
      ]
    },
    {
      "cell_type": "code",
      "source": [
        "tf.reduce_min(tensor)"
      ],
      "metadata": {
        "colab": {
          "base_uri": "https://localhost:8080/"
        },
        "id": "7cF56gSzotCz",
        "outputId": "0a8ed003-f11b-4717-c3ac-9cf42e984713"
      },
      "execution_count": 65,
      "outputs": [
        {
          "output_type": "execute_result",
          "data": {
            "text/plain": [
              "<tf.Tensor: shape=(), dtype=int64, numpy=1>"
            ]
          },
          "metadata": {},
          "execution_count": 65
        }
      ]
    },
    {
      "cell_type": "code",
      "source": [
        "tf.reduce_max(tensor)"
      ],
      "metadata": {
        "colab": {
          "base_uri": "https://localhost:8080/"
        },
        "id": "YjwdgU34pFe2",
        "outputId": "323966d4-ad01-4eb0-8f42-11cb03741e59"
      },
      "execution_count": 66,
      "outputs": [
        {
          "output_type": "execute_result",
          "data": {
            "text/plain": [
              "<tf.Tensor: shape=(), dtype=int64, numpy=98>"
            ]
          },
          "metadata": {},
          "execution_count": 66
        }
      ]
    },
    {
      "cell_type": "code",
      "source": [
        "tf.reduce_mean(tensor)"
      ],
      "metadata": {
        "colab": {
          "base_uri": "https://localhost:8080/"
        },
        "id": "b9BnSVxdpg-L",
        "outputId": "66c40a30-89e8-43b1-9765-ad60b0191469"
      },
      "execution_count": 67,
      "outputs": [
        {
          "output_type": "execute_result",
          "data": {
            "text/plain": [
              "<tf.Tensor: shape=(), dtype=int64, numpy=57>"
            ]
          },
          "metadata": {},
          "execution_count": 67
        }
      ]
    },
    {
      "cell_type": "code",
      "source": [
        "tf.reduce_sum(tensor)"
      ],
      "metadata": {
        "colab": {
          "base_uri": "https://localhost:8080/"
        },
        "id": "5bMEdPKKplir",
        "outputId": "455b53bd-e2c2-4969-fc7b-861bda343921"
      },
      "execution_count": 68,
      "outputs": [
        {
          "output_type": "execute_result",
          "data": {
            "text/plain": [
              "<tf.Tensor: shape=(), dtype=int64, numpy=2897>"
            ]
          },
          "metadata": {},
          "execution_count": 68
        }
      ]
    },
    {
      "cell_type": "code",
      "source": [
        "import tensorflow_probability as tfp  #need to import to fnd variance\n",
        "tfp.stats.variance(tensor)"
      ],
      "metadata": {
        "colab": {
          "base_uri": "https://localhost:8080/"
        },
        "id": "svA623V5pnH5",
        "outputId": "e98157a7-20fe-4013-c01c-065d87828c8d"
      },
      "execution_count": 69,
      "outputs": [
        {
          "output_type": "execute_result",
          "data": {
            "text/plain": [
              "<tf.Tensor: shape=(), dtype=int64, numpy=847>"
            ]
          },
          "metadata": {},
          "execution_count": 69
        }
      ]
    },
    {
      "cell_type": "code",
      "source": [
        "tf.math.reduce_std(tf.cast(tensor, dtype=tf.float32))"
      ],
      "metadata": {
        "colab": {
          "base_uri": "https://localhost:8080/"
        },
        "id": "JOfssutFvz5S",
        "outputId": "0e547719-4077-406e-b1a0-4c816baaa39c"
      },
      "execution_count": 71,
      "outputs": [
        {
          "output_type": "execute_result",
          "data": {
            "text/plain": [
              "<tf.Tensor: shape=(), dtype=float32, numpy=29.097359>"
            ]
          },
          "metadata": {},
          "execution_count": 71
        }
      ]
    },
    {
      "cell_type": "code",
      "source": [
        "tf.math.reduce_variance(tf.cast(tensor, dtype=tf.float32))"
      ],
      "metadata": {
        "colab": {
          "base_uri": "https://localhost:8080/"
        },
        "id": "pAwIpzg7wScy",
        "outputId": "a64f105f-3871-45b1-f3a0-e507b7fea432"
      },
      "execution_count": 72,
      "outputs": [
        {
          "output_type": "execute_result",
          "data": {
            "text/plain": [
              "<tf.Tensor: shape=(), dtype=float32, numpy=846.6563>"
            ]
          },
          "metadata": {},
          "execution_count": 72
        }
      ]
    },
    {
      "cell_type": "markdown",
      "source": [
        "Finding the positional maximum and minimum"
      ],
      "metadata": {
        "id": "QFGSdPIVywJg"
      }
    },
    {
      "cell_type": "code",
      "source": [
        "tf.random.set_seed(42)\n",
        "F = tf.random.uniform(shape=[50])\n",
        "F"
      ],
      "metadata": {
        "colab": {
          "base_uri": "https://localhost:8080/"
        },
        "id": "X59CyDV1yBaE",
        "outputId": "fe819c99-3ac6-4dc4-dd58-b6212dee4848"
      },
      "execution_count": 73,
      "outputs": [
        {
          "output_type": "execute_result",
          "data": {
            "text/plain": [
              "<tf.Tensor: shape=(50,), dtype=float32, numpy=\n",
              "array([0.6645621 , 0.44100678, 0.3528825 , 0.46448255, 0.03366041,\n",
              "       0.68467236, 0.74011743, 0.8724445 , 0.22632635, 0.22319686,\n",
              "       0.3103881 , 0.7223358 , 0.13318717, 0.5480639 , 0.5746088 ,\n",
              "       0.8996835 , 0.00946367, 0.5212307 , 0.6345445 , 0.1993283 ,\n",
              "       0.72942245, 0.54583454, 0.10756552, 0.6767061 , 0.6602763 ,\n",
              "       0.33695042, 0.60141766, 0.21062577, 0.8527372 , 0.44062173,\n",
              "       0.9485276 , 0.23752594, 0.81179297, 0.5263394 , 0.494308  ,\n",
              "       0.21612847, 0.8457197 , 0.8718841 , 0.3083862 , 0.6868038 ,\n",
              "       0.23764038, 0.7817228 , 0.9671384 , 0.06870162, 0.79873943,\n",
              "       0.66028714, 0.5871513 , 0.16461694, 0.7381023 , 0.32054043],\n",
              "      dtype=float32)>"
            ]
          },
          "metadata": {},
          "execution_count": 73
        }
      ]
    },
    {
      "cell_type": "code",
      "source": [
        "F[tf.argmax(F)].numpy()"
      ],
      "metadata": {
        "colab": {
          "base_uri": "https://localhost:8080/"
        },
        "id": "f9zavvkazFPf",
        "outputId": "8e27764d-3e3a-485f-847c-7e9d07d53928"
      },
      "execution_count": 78,
      "outputs": [
        {
          "output_type": "execute_result",
          "data": {
            "text/plain": [
              "0.9671384"
            ]
          },
          "metadata": {},
          "execution_count": 78
        }
      ]
    },
    {
      "cell_type": "code",
      "source": [
        "tf.reduce_max(F).numpy()"
      ],
      "metadata": {
        "colab": {
          "base_uri": "https://localhost:8080/"
        },
        "id": "SJfrYZz9zICW",
        "outputId": "037ea893-e4aa-4ccd-c7ce-a8e326c92385"
      },
      "execution_count": 79,
      "outputs": [
        {
          "output_type": "execute_result",
          "data": {
            "text/plain": [
              "0.9671384"
            ]
          },
          "metadata": {},
          "execution_count": 79
        }
      ]
    },
    {
      "cell_type": "code",
      "source": [
        " F[tf.argmax(F)].numpy() == tf.reduce_max(F).numpy()"
      ],
      "metadata": {
        "colab": {
          "base_uri": "https://localhost:8080/"
        },
        "id": "RwwTL7Hyzc9j",
        "outputId": "f87e6d8c-fc16-4ea7-ad6f-6e2361297383"
      },
      "execution_count": 81,
      "outputs": [
        {
          "output_type": "execute_result",
          "data": {
            "text/plain": [
              "True"
            ]
          },
          "metadata": {},
          "execution_count": 81
        }
      ]
    },
    {
      "cell_type": "markdown",
      "source": [
        "Squeezing tensor"
      ],
      "metadata": {
        "id": "xtObeZNV0zI4"
      }
    },
    {
      "cell_type": "code",
      "source": [
        "tf.random.set_seed(42)\n",
        "F = tf.constant(tf.random.uniform(shape=[50]),shape=(1,1,1,1,50))\n",
        "F"
      ],
      "metadata": {
        "colab": {
          "base_uri": "https://localhost:8080/"
        },
        "id": "q544-Hvbzk1f",
        "outputId": "520d5ddf-ab9b-47a5-c342-6d76524c9a20"
      },
      "execution_count": 83,
      "outputs": [
        {
          "output_type": "execute_result",
          "data": {
            "text/plain": [
              "<tf.Tensor: shape=(1, 1, 1, 1, 50), dtype=float32, numpy=\n",
              "array([[[[[0.6645621 , 0.44100678, 0.3528825 , 0.46448255, 0.03366041,\n",
              "           0.68467236, 0.74011743, 0.8724445 , 0.22632635, 0.22319686,\n",
              "           0.3103881 , 0.7223358 , 0.13318717, 0.5480639 , 0.5746088 ,\n",
              "           0.8996835 , 0.00946367, 0.5212307 , 0.6345445 , 0.1993283 ,\n",
              "           0.72942245, 0.54583454, 0.10756552, 0.6767061 , 0.6602763 ,\n",
              "           0.33695042, 0.60141766, 0.21062577, 0.8527372 , 0.44062173,\n",
              "           0.9485276 , 0.23752594, 0.81179297, 0.5263394 , 0.494308  ,\n",
              "           0.21612847, 0.8457197 , 0.8718841 , 0.3083862 , 0.6868038 ,\n",
              "           0.23764038, 0.7817228 , 0.9671384 , 0.06870162, 0.79873943,\n",
              "           0.66028714, 0.5871513 , 0.16461694, 0.7381023 , 0.32054043]]]]],\n",
              "      dtype=float32)>"
            ]
          },
          "metadata": {},
          "execution_count": 83
        }
      ]
    },
    {
      "cell_type": "code",
      "source": [
        "F.shape"
      ],
      "metadata": {
        "colab": {
          "base_uri": "https://localhost:8080/"
        },
        "id": "lsAUOy2G1Bce",
        "outputId": "7815b892-1786-478e-e38a-91ce948cb223"
      },
      "execution_count": 85,
      "outputs": [
        {
          "output_type": "execute_result",
          "data": {
            "text/plain": [
              "TensorShape([1, 1, 1, 1, 50])"
            ]
          },
          "metadata": {},
          "execution_count": 85
        }
      ]
    },
    {
      "cell_type": "code",
      "source": [
        "g_squeeze = tf.squeeze(F) #removes 1 dimension\n",
        "g_squeeze.shape"
      ],
      "metadata": {
        "colab": {
          "base_uri": "https://localhost:8080/"
        },
        "id": "z73rOMHB1OnT",
        "outputId": "3706697f-b287-46cf-f033-9791d3d4e92d"
      },
      "execution_count": 87,
      "outputs": [
        {
          "output_type": "execute_result",
          "data": {
            "text/plain": [
              "TensorShape([50])"
            ]
          },
          "metadata": {},
          "execution_count": 87
        }
      ]
    },
    {
      "cell_type": "code",
      "source": [
        "some_list = [0,1,2,3]\n",
        "\n",
        "tf.one_hot(some_list, depth =4)"
      ],
      "metadata": {
        "colab": {
          "base_uri": "https://localhost:8080/"
        },
        "id": "I1J4P8eH1d9y",
        "outputId": "a3459057-a595-4607-ef55-6e8c6ea6cdc8"
      },
      "execution_count": 88,
      "outputs": [
        {
          "output_type": "execute_result",
          "data": {
            "text/plain": [
              "<tf.Tensor: shape=(4, 4), dtype=float32, numpy=\n",
              "array([[1., 0., 0., 0.],\n",
              "       [0., 1., 0., 0.],\n",
              "       [0., 0., 1., 0.],\n",
              "       [0., 0., 0., 1.]], dtype=float32)>"
            ]
          },
          "metadata": {},
          "execution_count": 88
        }
      ]
    },
    {
      "cell_type": "code",
      "source": [
        "tf.one_hot(some_list, depth =4, on_value=\"ooo\", off_value=\"l\")"
      ],
      "metadata": {
        "colab": {
          "base_uri": "https://localhost:8080/"
        },
        "id": "23OYjWzX3aMT",
        "outputId": "7bd11dea-74c8-47cf-f7b4-d4625dfab71c"
      },
      "execution_count": 89,
      "outputs": [
        {
          "output_type": "execute_result",
          "data": {
            "text/plain": [
              "<tf.Tensor: shape=(4, 4), dtype=string, numpy=\n",
              "array([[b'ooo', b'l', b'l', b'l'],\n",
              "       [b'l', b'ooo', b'l', b'l'],\n",
              "       [b'l', b'l', b'ooo', b'l'],\n",
              "       [b'l', b'l', b'l', b'ooo']], dtype=object)>"
            ]
          },
          "metadata": {},
          "execution_count": 89
        }
      ]
    },
    {
      "cell_type": "code",
      "source": [
        "tf.square(F)"
      ],
      "metadata": {
        "colab": {
          "base_uri": "https://localhost:8080/"
        },
        "id": "pzIR-Eje3yrj",
        "outputId": "ce1375cd-64c0-485c-e252-ce91e8ba201c"
      },
      "execution_count": 90,
      "outputs": [
        {
          "output_type": "execute_result",
          "data": {
            "text/plain": [
              "<tf.Tensor: shape=(1, 1, 1, 1, 50), dtype=float32, numpy=\n",
              "array([[[[[4.4164279e-01, 1.9448698e-01, 1.2452606e-01, 2.1574403e-01,\n",
              "           1.1330233e-03, 4.6877623e-01, 5.4777384e-01, 7.6115942e-01,\n",
              "           5.1223613e-02, 4.9816839e-02, 9.6340768e-02, 5.2176905e-01,\n",
              "           1.7738823e-02, 3.0037400e-01, 3.3017528e-01, 8.0943036e-01,\n",
              "           8.9561006e-05, 2.7168143e-01, 4.0264672e-01, 3.9731771e-02,\n",
              "           5.3205711e-01, 2.9793534e-01, 1.1570342e-02, 4.5793110e-01,\n",
              "           4.3596479e-01, 1.1353558e-01, 3.6170322e-01, 4.4363216e-02,\n",
              "           7.2716069e-01, 1.9414751e-01, 8.9970458e-01, 5.6418572e-02,\n",
              "           6.5900785e-01, 2.7703318e-01, 2.4434039e-01, 4.6711516e-02,\n",
              "           7.1524179e-01, 7.6018190e-01, 9.5102049e-02, 4.7169948e-01,\n",
              "           5.6472950e-02, 6.1109054e-01, 9.3535668e-01, 4.7199135e-03,\n",
              "           6.3798469e-01, 4.3597910e-01, 3.4474665e-01, 2.7098738e-02,\n",
              "           5.4479504e-01, 1.0274617e-01]]]]], dtype=float32)>"
            ]
          },
          "metadata": {},
          "execution_count": 90
        }
      ]
    },
    {
      "cell_type": "code",
      "source": [
        "#find the square root, requires non int type\n",
        "\n",
        "tf.sqrt(tf.cast(F,dtype=tf.float32))"
      ],
      "metadata": {
        "colab": {
          "base_uri": "https://localhost:8080/"
        },
        "id": "Id2BIc63bBrA",
        "outputId": "a34451e2-0de5-4708-bd93-2ae9911bdedd"
      },
      "execution_count": 92,
      "outputs": [
        {
          "output_type": "execute_result",
          "data": {
            "text/plain": [
              "<tf.Tensor: shape=(1, 1, 1, 1, 50), dtype=float32, numpy=\n",
              "array([[[[[0.81520677, 0.6640834 , 0.59403914, 0.6815296 , 0.18346775,\n",
              "           0.8274493 , 0.8603008 , 0.9340474 , 0.4757377 , 0.47243714,\n",
              "           0.55712485, 0.8499034 , 0.36494818, 0.74031335, 0.7580296 ,\n",
              "           0.9485165 , 0.09728138, 0.7219631 , 0.796583  , 0.44646198,\n",
              "           0.8540623 , 0.7388062 , 0.32797185, 0.82262146, 0.81257385,\n",
              "           0.5804743 , 0.7755112 , 0.45893982, 0.9234377 , 0.66379344,\n",
              "           0.9739238 , 0.48736632, 0.90099555, 0.72549254, 0.7030704 ,\n",
              "           0.4648962 , 0.91963017, 0.93374735, 0.5553253 , 0.8287363 ,\n",
              "           0.4874837 , 0.88415086, 0.98343194, 0.26210994, 0.89372224,\n",
              "           0.8125805 , 0.766258  , 0.40573013, 0.85912883, 0.5661629 ]]]]],\n",
              "      dtype=float32)>"
            ]
          },
          "metadata": {},
          "execution_count": 92
        }
      ]
    },
    {
      "cell_type": "code",
      "source": [
        "#same as before\n",
        "tf.math.log(tf.cast(F,dtype=tf.float32))"
      ],
      "metadata": {
        "colab": {
          "base_uri": "https://localhost:8080/"
        },
        "id": "0NOIZqhNbNxW",
        "outputId": "c451462b-a7ec-458f-8578-72dda2b27076"
      },
      "execution_count": 93,
      "outputs": [
        {
          "output_type": "execute_result",
          "data": {
            "text/plain": [
              "<tf.Tensor: shape=(1, 1, 1, 1, 50), dtype=float32, numpy=\n",
              "array([[[[[-0.40862694, -0.818695  , -1.0416201 , -0.7668313 ,\n",
              "           -3.3914328 , -0.37881485, -0.3009464 , -0.13645622,\n",
              "           -1.4857774 , -1.4997011 , -1.1699319 , -0.32526514,\n",
              "           -2.0159998 , -0.6013634 , -0.5540658 , -0.10571226,\n",
              "           -4.6602955 , -0.6515625 , -0.45484787, -1.612802  ,\n",
              "           -0.31550223, -0.60543936, -2.229655  , -0.39051828,\n",
              "           -0.4150969 , -1.0878195 , -0.50846565, -1.5576724 ,\n",
              "           -0.15930387, -0.8195685 , -0.05284442, -1.4374784 ,\n",
              "           -0.20850994, -0.641809  , -0.70459646, -1.5318823 ,\n",
              "           -0.16756731, -0.13709876, -1.1764023 , -0.37570658,\n",
              "           -1.4369967 , -0.2462551 , -0.03341366, -2.6779823 ,\n",
              "           -0.22472048, -0.41508046, -0.5324727 , -1.8041341 ,\n",
              "           -0.30367282, -1.1377468 ]]]]], dtype=float32)>"
            ]
          },
          "metadata": {},
          "execution_count": 93
        }
      ]
    },
    {
      "cell_type": "markdown",
      "source": [
        "tensor flow and numpy arrays"
      ],
      "metadata": {
        "id": "DrnGmrMYb6sz"
      }
    },
    {
      "cell_type": "code",
      "source": [
        "J = tf.constant(np.array([1,2,3,4,5]))\n",
        "J"
      ],
      "metadata": {
        "colab": {
          "base_uri": "https://localhost:8080/"
        },
        "id": "n57jGRtqbmzy",
        "outputId": "5729b34d-491d-4870-babc-f818e5b3fbff"
      },
      "execution_count": 94,
      "outputs": [
        {
          "output_type": "execute_result",
          "data": {
            "text/plain": [
              "<tf.Tensor: shape=(5,), dtype=int64, numpy=array([1, 2, 3, 4, 5])>"
            ]
          },
          "metadata": {},
          "execution_count": 94
        }
      ]
    },
    {
      "cell_type": "code",
      "source": [
        "#convert back to np\n",
        "np.array(J), J.numpy()"
      ],
      "metadata": {
        "colab": {
          "base_uri": "https://localhost:8080/"
        },
        "id": "vFqFs-AlcHgM",
        "outputId": "86ca5666-34c6-4c5b-a477-3beeabae457f"
      },
      "execution_count": 97,
      "outputs": [
        {
          "output_type": "execute_result",
          "data": {
            "text/plain": [
              "(array([1, 2, 3, 4, 5]), array([1, 2, 3, 4, 5]))"
            ]
          },
          "metadata": {},
          "execution_count": 97
        }
      ]
    },
    {
      "cell_type": "code",
      "source": [],
      "metadata": {
        "id": "NXOd09RccRc8"
      },
      "execution_count": null,
      "outputs": []
    }
  ]
}